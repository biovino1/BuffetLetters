{
 "cells": [
  {
   "attachments": {},
   "cell_type": "markdown",
   "metadata": {},
   "source": [
    "# Sentiment Analysis With Basic Neural Network"
   ]
  },
  {
   "cell_type": "code",
   "execution_count": 2,
   "metadata": {},
   "outputs": [],
   "source": [
    "import tensorflow as tf\n",
    "import tensorflow_datasets as tfds\n",
    "import pandas as pd\n",
    "import regex as re\n",
    "\n",
    "# Load IMDB dataset\n",
    "dataset = tfds.load('imdb_reviews', split='train')\n",
    "dataframe = tfds.as_dataframe(dataset)\n",
    "\n",
    "# Decode each text and put into pandas df\n",
    "df = pd.DataFrame()\n",
    "regexes = ((\"<\", \"\"), (\"br\", \"\", ), (\"/>\", \"\"), (\"  \", \" \"))\n",
    "reviews = []\n",
    "for text in dataframe['text']:\n",
    "    text = text.decode()\n",
    "    for reg in regexes:\n",
    "        text = re.sub(reg[0], reg[1], text)\n",
    "    reviews.append(text)\n",
    "df['review'] = reviews\n",
    "df['label'] = dataframe['label']"
   ]
  },
  {
   "cell_type": "code",
   "execution_count": null,
   "metadata": {},
   "outputs": [],
   "source": []
  }
 ],
 "metadata": {
  "kernelspec": {
   "display_name": "CS565",
   "language": "python",
   "name": "python3"
  },
  "language_info": {
   "codemirror_mode": {
    "name": "ipython",
    "version": 3
   },
   "file_extension": ".py",
   "mimetype": "text/x-python",
   "name": "python",
   "nbconvert_exporter": "python",
   "pygments_lexer": "ipython3",
   "version": "3.10.6"
  },
  "orig_nbformat": 4,
  "vscode": {
   "interpreter": {
    "hash": "28d0936ee39d1d83b1d16042d253224ea823dd24af546049b5f7ae0790019612"
   }
  }
 },
 "nbformat": 4,
 "nbformat_minor": 2
}
