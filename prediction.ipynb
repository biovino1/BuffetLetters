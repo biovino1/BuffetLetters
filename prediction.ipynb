{
 "cells": [
  {
   "attachments": {},
   "cell_type": "markdown",
   "metadata": {},
   "source": [
    "# Sentiment Analysis With Basic Neural Network"
   ]
  },
  {
   "cell_type": "code",
   "execution_count": 3,
   "metadata": {},
   "outputs": [],
   "source": [
    "import tensorflow as tf\n",
    "import tensorflow_datasets as tfds\n",
    "import pandas as pd\n",
    "import regex as re\n",
    "from sklearn.model_selection import train_test_split\n",
    "\n",
    "# Load IMDB dataset\n",
    "dataset = tfds.load('imdb_reviews', split='train')\n",
    "dataframe = tfds.as_dataframe(dataset)\n",
    "\n",
    "# Decode each text and put into pandas df\n",
    "df = pd.DataFrame()\n",
    "regexes = ((\"<\", \"\"), (\"br\", \"\", ), (\"/>\", \"\"), (\"  \", \" \"))\n",
    "reviews = []\n",
    "for text in dataframe['text']:\n",
    "    text = text.decode()\n",
    "    for reg in regexes:\n",
    "        text = re.sub(reg[0], reg[1], text)\n",
    "    reviews.append(text)\n",
    "df['text'] = reviews\n",
    "df['label'] = dataframe['label']\n",
    "\n",
    "# Split data into training and validation\n",
    "train_X, test_X, train_y, test_y = train_test_split(df['text'].values, df['label'].values, test_size=0.2)"
   ]
  },
  {
   "cell_type": "code",
   "execution_count": 7,
   "metadata": {},
   "outputs": [
    {
     "name": "stderr",
     "output_type": "stream",
     "text": [
      "WARNING:matplotlib.legend:No artists with labels found to put in legend.  Note that artists whose label start with an underscore are ignored when legend() is called with no argument.\n"
     ]
    },
    {
     "data": {
      "text/plain": [
       "<matplotlib.legend.Legend at 0x7f94c4785a20>"
      ]
     },
     "execution_count": 7,
     "metadata": {},
     "output_type": "execute_result"
    },
    {
     "data": {
      "image/png": "[encoded data removed]",
      "text/plain": [
       "<Figure size 640x480 with 1 Axes>"
      ]
     },
     "metadata": {},
     "output_type": "display_data"
    }
   ],
   "source": [
    "import matplotlib.pyplot as plt\n",
    "import nltk\n",
    "\n",
    "# Tokenize each review\n",
    "tokenized_reviews = []   \n",
    "for text in df['text']:\n",
    "    text = nltk.word_tokenize(text)\n",
    "    tokenized_reviews.append(text)\n",
    "\n",
    "# Add to new df\n",
    "df_tok = pd.DataFrame()\n",
    "df_tok['text'] = tokenized_reviews\n",
    "\n",
    "# Plot hist of word counts\n",
    "fig = plt.figure()\n",
    "ax = fig.add_subplot()\n",
    "ax.hist([len(text) for text in df_tok['text']], [0, 500, 1000, 1500, 2000])\n",
    "ax.set_title('Word Count of IMDB Reviews')\n",
    "ax.set_xlabel('Review')\n",
    "ax.set_ylabel('Word Count')\n",
    "ax.legend()"
   ]
  },
  {
   "cell_type": "code",
   "execution_count": 26,
   "metadata": {},
   "outputs": [],
   "source": [
    "from keras.layers import TextVectorization\n",
    "\n",
    "# Parameters for vocab size and number of words in a sequence\n",
    "vocab_size = 10000\n",
    "sequence_length = 100\n",
    "\n",
    "# Use TextVectorization to turn strings into vectors of integers\n",
    "vectorize_layer = TextVectorization(\n",
    "    standardize='lower_and_strip_punctuation',\n",
    "    max_tokens=vocab_size, \n",
    "    output_mode='int',\n",
    "    output_sequence_length=sequence_length)\n",
    "\n",
    "# Build vocabulary\n",
    "all_reviews = df['text'].values\n",
    "vectorize_layer.adapt(all_reviews)\n"
   ]
  },
  {
   "cell_type": "code",
   "execution_count": 28,
   "metadata": {},
   "outputs": [
    {
     "name": "stdout",
     "output_type": "stream",
     "text": [
      "Epoch 1/3\n",
      "625/625 [==============================] - 2s 3ms/step - loss: 0.5607 - accuracy: 0.6344\n",
      "Epoch 2/3\n",
      "625/625 [==============================] - 2s 3ms/step - loss: 0.3366 - accuracy: 0.8501\n",
      "Epoch 3/3\n",
      "625/625 [==============================] - 2s 3ms/step - loss: 0.2667 - accuracy: 0.8872\n"
     ]
    },
    {
     "data": {
      "text/plain": [
       "<keras.callbacks.History at 0x7f938e276380>"
      ]
     },
     "execution_count": 28,
     "metadata": {},
     "output_type": "execute_result"
    }
   ],
   "source": [
    "# Build model\n",
    "model = tf.keras.Sequential([\n",
    "    vectorize_layer,\n",
    "    tf.keras.layers.Embedding(vocab_size, 16),\n",
    "    tf.keras.layers.GlobalAveragePooling1D(),\n",
    "    tf.keras.layers.Dense(16, activation='relu'),\n",
    "    tf.keras.layers.Dense(1)])\n",
    "\n",
    "# Compile model\n",
    "model.compile(\n",
    "    optimizer='adam',\n",
    "    loss=tf.keras.losses.BinaryCrossentropy(from_logits=True),\n",
    "    metrics=['accuracy'])\n",
    "\n",
    "# Train model\n",
    "model.fit(train_X, train_y, epochs=3)"
   ]
  },
  {
   "cell_type": "code",
   "execution_count": null,
   "metadata": {},
   "outputs": [],
   "source": []
  }
 ],
 "metadata": {
  "kernelspec": {
   "display_name": "CS565",
   "language": "python",
   "name": "python3"
  },
  "language_info": {
   "codemirror_mode": {
    "name": "ipython",
    "version": 3
   },
   "file_extension": ".py",
   "mimetype": "text/x-python",
   "name": "python",
   "nbconvert_exporter": "python",
   "pygments_lexer": "ipython3",
   "version": "3.10.6"
  },
  "orig_nbformat": 4,
  "vscode": {
   "interpreter": {
    "hash": "28d0936ee39d1d83b1d16042d253224ea823dd24af546049b5f7ae0790019612"
   }
  }
 },
 "nbformat": 4,
 "nbformat_minor": 2
}
